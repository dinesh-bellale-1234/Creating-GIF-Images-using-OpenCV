{
 "cells": [
  {
   "cell_type": "code",
   "execution_count": 5,
   "id": "23bfe219",
   "metadata": {},
   "outputs": [
    {
     "name": "stdout",
     "output_type": "stream",
     "text": [
      "Requirement already satisfied: imageio in c:\\users\\deepa\\anaconda3\\lib\\site-packages (2.26.0)\n",
      "Requirement already satisfied: numpy in c:\\users\\deepa\\anaconda3\\lib\\site-packages (from imageio) (1.24.3)\n",
      "Requirement already satisfied: pillow>=8.3.2 in c:\\users\\deepa\\anaconda3\\lib\\site-packages (from imageio) (9.4.0)\n",
      "Note: you may need to restart the kernel to use updated packages.\n"
     ]
    }
   ],
   "source": [
    "pip install imageio"
   ]
  },
  {
   "cell_type": "code",
   "execution_count": 10,
   "id": "f9889267",
   "metadata": {},
   "outputs": [
    {
     "name": "stderr",
     "output_type": "stream",
     "text": [
      "C:\\Users\\deepa\\AppData\\Local\\Temp\\ipykernel_15624\\2763471425.py:13: DeprecationWarning: Starting with ImageIO v3 the behavior of this function will switch to that of iio.v3.imread. To keep the current behavior (and make this warning disappear) use `import imageio.v2 as imageio` or call `imageio.v2.imread` directly.\n",
      "  images = [imageio.imread(path) for path in image_paths]\n"
     ]
    },
    {
     "name": "stdout",
     "output_type": "stream",
     "text": [
      "GIF created successfully: output.gif\n"
     ]
    }
   ],
   "source": [
    "import imageio\n",
    "\n",
    "# List of image file paths\n",
    "image_1 = r\"C:\\Users\\deepa\\Downloads\\GIF files\\dog.jpeg\"\n",
    "image_2 = r\"C:\\Users\\deepa\\Downloads\\GIF files\\snake.jpeg\"\n",
    "image_3 = r\"C:\\Users\\deepa\\Downloads\\GIF files\\panda.jpeg\"\n",
    "image_4 = r\"C:\\Users\\deepa\\Downloads\\GIF files\\dinosaur.jpeg\"\n",
    "image_5 = r\"C:\\Users\\deepa\\Downloads\\GIF files\\cat.jpeg\"\n",
    "\n",
    "image_paths = [image_1, image_2, image_3, image_4, image_5]\n",
    "\n",
    "# Read images and store them in a list\n",
    "images = [imageio.imread(path) for path in image_paths]\n",
    "\n",
    "# Define the output GIF file name\n",
    "output_gif = \"output.gif\"\n",
    "\n",
    "# Define the duration (in seconds) for each frame in the GIF\n",
    "frame_duration = 0.2  \n",
    "\n",
    "# Write images to the GIF file\n",
    "imageio.mimsave(output_gif, images, duration=frame_duration)\n",
    "\n",
    "print(f\"GIF created successfully: {output_gif}\")"
   ]
  },
  {
   "cell_type": "code",
   "execution_count": null,
   "id": "1f392234",
   "metadata": {},
   "outputs": [],
   "source": []
  }
 ],
 "metadata": {
  "kernelspec": {
   "display_name": "Python 3 (ipykernel)",
   "language": "python",
   "name": "python3"
  },
  "language_info": {
   "codemirror_mode": {
    "name": "ipython",
    "version": 3
   },
   "file_extension": ".py",
   "mimetype": "text/x-python",
   "name": "python",
   "nbconvert_exporter": "python",
   "pygments_lexer": "ipython3",
   "version": "3.11.3"
  }
 },
 "nbformat": 4,
 "nbformat_minor": 5
}
